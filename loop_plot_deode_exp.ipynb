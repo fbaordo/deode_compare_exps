{
 "cells": [
  {
   "cell_type": "code",
   "execution_count": 1,
   "id": "26260316-dcaa-4615-956f-38d6f71b7df7",
   "metadata": {},
   "outputs": [
    {
     "name": "stdout",
     "output_type": "stream",
     "text": [
      "\n",
      "The following have been reloaded with a version change:\n",
      "  1) python3/3.11.10-01 => python3/3.10.10-01\n",
      "\n",
      "\n",
      "Currently Loaded Modules:\n",
      "  1) gcc/8.5.0    3) python3/3.11.10-01   5) ecmwf-toolbox/2024.04.0.0\n",
      "  2) prgenv/gnu   4) node/20.11.0\n",
      "\n",
      " \n",
      "\n"
     ]
    }
   ],
   "source": [
    "!module load python3/3.10.10-01\n",
    "import lmod\n",
    "await lmod.load('ecmwf-toolbox/2024.04.0.0')\n",
    "!ml\n",
    "import metview as mv\n",
    "import os\n",
    "import numpy as np\n",
    "%load_ext autoreload\n",
    "from model_map_plots import plot_radiance_from_grb_message, \\\n",
    "plot_precipitation_from_grb,plot_precipitation_from_grb_ec, \\\n",
    "plot_winds_from_grb, plot_winds_from_grb_ec"
   ]
  },
  {
   "cell_type": "code",
   "execution_count": 8,
   "id": "9d7cc2a2-84f7-4eca-84f8-9799085a9e6e",
   "metadata": {},
   "outputs": [],
   "source": [
    "##################\n",
    "# PLOT FROM DEODE\n",
    "##################\n",
    "topPath  = '/perm/miag/deode_exps'\n",
    "YYYYMMDDHH = '2024092600'  #'2024121400'\n",
    "expName    = 'CY46h1_HARMONIE_AROME_DAN_1500x1500_500m_v1' \n",
    "girbId     = 'GRIBPFDEOD' \n",
    "\n",
    "grbSource     = os.path.join(topPath,YYYYMMDDHH,expName)\n",
    "pathSavePlots = os.path.join(topPath,YYYYMMDDHH,expName,'plots')                                \n",
    "\n",
    "# plots all time steps e.g. 1 to 48  \n",
    "#fc_steps = np.arange(1,49,1)\n",
    "\n",
    "#focus on  particular time steps\n",
    "fc_steps = np.arange(30,43,1) \n",
    "\n",
    "# accumulated precipitation\n",
    "strAccPre = '6h'\n",
    "accPreStep = 6\n",
    "\n",
    "# bbox spanning Denmark\n",
    "#50/1/60/20\n",
    "#bbox = [50, 1, 20, 60]\n",
    "bbox = [18, 4, 52, 59]"
   ]
  },
  {
   "cell_type": "code",
   "execution_count": 3,
   "id": "fc10605b-543e-4146-ad84-987e641ae541",
   "metadata": {},
   "outputs": [
    {
     "name": "stdout",
     "output_type": "stream",
     "text": [
      "Ploting winds from grib file: /perm/miag/deode_exps/2024121400/CY46h1_HARMONIE_AROME_DAN_1500x1500_500m_v1/surface_GRIBPFDEOD+0040h00m00s\n",
      "wind map saved as: /perm/miag/deode_exps/2024121400/CY46h1_HARMONIE_AROME_DAN_1500x1500_500m_v1/plots/winds.AN2024-12-14T00:00:00.000000000.FC40hours.png\n",
      "Ploting winds from grib file: /perm/miag/deode_exps/2024121400/CY46h1_HARMONIE_AROME_DAN_1500x1500_500m_v1/surface_GRIBPFDEOD+0041h00m00s\n",
      "wind map saved as: /perm/miag/deode_exps/2024121400/CY46h1_HARMONIE_AROME_DAN_1500x1500_500m_v1/plots/winds.AN2024-12-14T00:00:00.000000000.FC41hours.png\n",
      "Ploting winds from grib file: /perm/miag/deode_exps/2024121400/CY46h1_HARMONIE_AROME_DAN_1500x1500_500m_v1/surface_GRIBPFDEOD+0042h00m00s\n",
      "wind map saved as: /perm/miag/deode_exps/2024121400/CY46h1_HARMONIE_AROME_DAN_1500x1500_500m_v1/plots/winds.AN2024-12-14T00:00:00.000000000.FC42hours.png\n",
      "Ploting winds from grib file: /perm/miag/deode_exps/2024121400/CY46h1_HARMONIE_AROME_DAN_1500x1500_500m_v1/surface_GRIBPFDEOD+0043h00m00s\n",
      "wind map saved as: /perm/miag/deode_exps/2024121400/CY46h1_HARMONIE_AROME_DAN_1500x1500_500m_v1/plots/winds.AN2024-12-14T00:00:00.000000000.FC43hours.png\n",
      "Ploting winds from grib file: /perm/miag/deode_exps/2024121400/CY46h1_HARMONIE_AROME_DAN_1500x1500_500m_v1/surface_GRIBPFDEOD+0044h00m00s\n",
      "wind map saved as: /perm/miag/deode_exps/2024121400/CY46h1_HARMONIE_AROME_DAN_1500x1500_500m_v1/plots/winds.AN2024-12-14T00:00:00.000000000.FC44hours.png\n",
      "Ploting winds from grib file: /perm/miag/deode_exps/2024121400/CY46h1_HARMONIE_AROME_DAN_1500x1500_500m_v1/surface_GRIBPFDEOD+0045h00m00s\n",
      "wind map saved as: /perm/miag/deode_exps/2024121400/CY46h1_HARMONIE_AROME_DAN_1500x1500_500m_v1/plots/winds.AN2024-12-14T00:00:00.000000000.FC45hours.png\n",
      "Ploting winds from grib file: /perm/miag/deode_exps/2024121400/CY46h1_HARMONIE_AROME_DAN_1500x1500_500m_v1/surface_GRIBPFDEOD+0046h00m00s\n",
      "wind map saved as: /perm/miag/deode_exps/2024121400/CY46h1_HARMONIE_AROME_DAN_1500x1500_500m_v1/plots/winds.AN2024-12-14T00:00:00.000000000.FC46hours.png\n",
      "Ploting winds from grib file: /perm/miag/deode_exps/2024121400/CY46h1_HARMONIE_AROME_DAN_1500x1500_500m_v1/surface_GRIBPFDEOD+0047h00m00s\n",
      "wind map saved as: /perm/miag/deode_exps/2024121400/CY46h1_HARMONIE_AROME_DAN_1500x1500_500m_v1/plots/winds.AN2024-12-14T00:00:00.000000000.FC47hours.png\n",
      "Ploting winds from grib file: /perm/miag/deode_exps/2024121400/CY46h1_HARMONIE_AROME_DAN_1500x1500_500m_v1/surface_GRIBPFDEOD+0048h00m00s\n",
      "wind map saved as: /perm/miag/deode_exps/2024121400/CY46h1_HARMONIE_AROME_DAN_1500x1500_500m_v1/plots/winds.AN2024-12-14T00:00:00.000000000.FC48hours.png\n"
     ]
    }
   ],
   "source": [
    "#############\n",
    "# wind plotting\n",
    "#############\n",
    "for fcStep in fc_steps:\n",
    "    if fcStep < 10:\n",
    "        fcStep = '0'+str(fcStep)\n",
    "    grbFileName = 'surface_{0}+00{1}h00m00s'.format(girbId,fcStep)\n",
    "    grbFile = os.path.join(grbSource, grbFileName)\n",
    "    print('Ploting winds from grib file: ' + grbFile)\n",
    "    plot_winds_from_grb (pathSavePlots, grbFile, \n",
    "                         minmapWS=0, maxmapWS=30, stepmapWS=2,\n",
    "                         minmapWG=0, maxmapWG=30, stepmapWG=2,bbox=bbox)"
   ]
  },
  {
   "cell_type": "code",
   "execution_count": 9,
   "id": "d1fce961-a31d-4664-a1ce-94bd96661d93",
   "metadata": {},
   "outputs": [
    {
     "name": "stdout",
     "output_type": "stream",
     "text": [
      "Ploting from grib file: /perm/miag/deode_exps/2024092600/CY46h1_HARMONIE_AROME_DAN_1500x1500_500m_v1/surface_GRIBPFDEOD+0030h00m00s\n",
      "ploting 6h acc considering previous grib file: surface_GRIBPFDEOD+0024h00m00s\n",
      "Acc prep map saved as: /perm/miag/deode_exps/2024092600/CY46h1_HARMONIE_AROME_DAN_1500x1500_500m_v1/plots/accPrec.6h.AN2024-09-26T00:00:00.000000000.FC30hours.png\n",
      "Ploting from grib file: /perm/miag/deode_exps/2024092600/CY46h1_HARMONIE_AROME_DAN_1500x1500_500m_v1/surface_GRIBPFDEOD+0031h00m00s\n",
      "ploting 6h acc considering previous grib file: surface_GRIBPFDEOD+0025h00m00s\n",
      "Acc prep map saved as: /perm/miag/deode_exps/2024092600/CY46h1_HARMONIE_AROME_DAN_1500x1500_500m_v1/plots/accPrec.6h.AN2024-09-26T00:00:00.000000000.FC31hours.png\n",
      "Ploting from grib file: /perm/miag/deode_exps/2024092600/CY46h1_HARMONIE_AROME_DAN_1500x1500_500m_v1/surface_GRIBPFDEOD+0032h00m00s\n",
      "ploting 6h acc considering previous grib file: surface_GRIBPFDEOD+0026h00m00s\n",
      "Acc prep map saved as: /perm/miag/deode_exps/2024092600/CY46h1_HARMONIE_AROME_DAN_1500x1500_500m_v1/plots/accPrec.6h.AN2024-09-26T00:00:00.000000000.FC32hours.png\n",
      "Ploting from grib file: /perm/miag/deode_exps/2024092600/CY46h1_HARMONIE_AROME_DAN_1500x1500_500m_v1/surface_GRIBPFDEOD+0033h00m00s\n",
      "ploting 6h acc considering previous grib file: surface_GRIBPFDEOD+0027h00m00s\n",
      "Acc prep map saved as: /perm/miag/deode_exps/2024092600/CY46h1_HARMONIE_AROME_DAN_1500x1500_500m_v1/plots/accPrec.6h.AN2024-09-26T00:00:00.000000000.FC33hours.png\n",
      "Ploting from grib file: /perm/miag/deode_exps/2024092600/CY46h1_HARMONIE_AROME_DAN_1500x1500_500m_v1/surface_GRIBPFDEOD+0034h00m00s\n",
      "ploting 6h acc considering previous grib file: surface_GRIBPFDEOD+0028h00m00s\n",
      "Acc prep map saved as: /perm/miag/deode_exps/2024092600/CY46h1_HARMONIE_AROME_DAN_1500x1500_500m_v1/plots/accPrec.6h.AN2024-09-26T00:00:00.000000000.FC34hours.png\n",
      "Ploting from grib file: /perm/miag/deode_exps/2024092600/CY46h1_HARMONIE_AROME_DAN_1500x1500_500m_v1/surface_GRIBPFDEOD+0035h00m00s\n",
      "ploting 6h acc considering previous grib file: surface_GRIBPFDEOD+0029h00m00s\n",
      "Acc prep map saved as: /perm/miag/deode_exps/2024092600/CY46h1_HARMONIE_AROME_DAN_1500x1500_500m_v1/plots/accPrec.6h.AN2024-09-26T00:00:00.000000000.FC35hours.png\n",
      "Ploting from grib file: /perm/miag/deode_exps/2024092600/CY46h1_HARMONIE_AROME_DAN_1500x1500_500m_v1/surface_GRIBPFDEOD+0036h00m00s\n",
      "ploting 6h acc considering previous grib file: surface_GRIBPFDEOD+0030h00m00s\n",
      "Acc prep map saved as: /perm/miag/deode_exps/2024092600/CY46h1_HARMONIE_AROME_DAN_1500x1500_500m_v1/plots/accPrec.6h.AN2024-09-26T00:00:00.000000000.FC36hours.png\n",
      "Ploting from grib file: /perm/miag/deode_exps/2024092600/CY46h1_HARMONIE_AROME_DAN_1500x1500_500m_v1/surface_GRIBPFDEOD+0037h00m00s\n",
      "ploting 6h acc considering previous grib file: surface_GRIBPFDEOD+0031h00m00s\n",
      "Acc prep map saved as: /perm/miag/deode_exps/2024092600/CY46h1_HARMONIE_AROME_DAN_1500x1500_500m_v1/plots/accPrec.6h.AN2024-09-26T00:00:00.000000000.FC37hours.png\n",
      "Ploting from grib file: /perm/miag/deode_exps/2024092600/CY46h1_HARMONIE_AROME_DAN_1500x1500_500m_v1/surface_GRIBPFDEOD+0038h00m00s\n",
      "ploting 6h acc considering previous grib file: surface_GRIBPFDEOD+0032h00m00s\n",
      "Acc prep map saved as: /perm/miag/deode_exps/2024092600/CY46h1_HARMONIE_AROME_DAN_1500x1500_500m_v1/plots/accPrec.6h.AN2024-09-26T00:00:00.000000000.FC38hours.png\n",
      "Ploting from grib file: /perm/miag/deode_exps/2024092600/CY46h1_HARMONIE_AROME_DAN_1500x1500_500m_v1/surface_GRIBPFDEOD+0039h00m00s\n",
      "ploting 6h acc considering previous grib file: surface_GRIBPFDEOD+0033h00m00s\n",
      "Acc prep map saved as: /perm/miag/deode_exps/2024092600/CY46h1_HARMONIE_AROME_DAN_1500x1500_500m_v1/plots/accPrec.6h.AN2024-09-26T00:00:00.000000000.FC39hours.png\n",
      "Ploting from grib file: /perm/miag/deode_exps/2024092600/CY46h1_HARMONIE_AROME_DAN_1500x1500_500m_v1/surface_GRIBPFDEOD+0040h00m00s\n",
      "ploting 6h acc considering previous grib file: surface_GRIBPFDEOD+0034h00m00s\n",
      "Acc prep map saved as: /perm/miag/deode_exps/2024092600/CY46h1_HARMONIE_AROME_DAN_1500x1500_500m_v1/plots/accPrec.6h.AN2024-09-26T00:00:00.000000000.FC40hours.png\n",
      "Ploting from grib file: /perm/miag/deode_exps/2024092600/CY46h1_HARMONIE_AROME_DAN_1500x1500_500m_v1/surface_GRIBPFDEOD+0041h00m00s\n",
      "ploting 6h acc considering previous grib file: surface_GRIBPFDEOD+0035h00m00s\n",
      "Acc prep map saved as: /perm/miag/deode_exps/2024092600/CY46h1_HARMONIE_AROME_DAN_1500x1500_500m_v1/plots/accPrec.6h.AN2024-09-26T00:00:00.000000000.FC41hours.png\n",
      "Ploting from grib file: /perm/miag/deode_exps/2024092600/CY46h1_HARMONIE_AROME_DAN_1500x1500_500m_v1/surface_GRIBPFDEOD+0042h00m00s\n",
      "ploting 6h acc considering previous grib file: surface_GRIBPFDEOD+0036h00m00s\n",
      "Acc prep map saved as: /perm/miag/deode_exps/2024092600/CY46h1_HARMONIE_AROME_DAN_1500x1500_500m_v1/plots/accPrec.6h.AN2024-09-26T00:00:00.000000000.FC42hours.png\n"
     ]
    }
   ],
   "source": [
    "#############\n",
    "# prec plotting\n",
    "#############\n",
    "for fcStep in fc_steps:\n",
    "    \n",
    "    if fcStep < 10:\n",
    "        strfcStep = '0'+str(fcStep)\n",
    "    else:\n",
    "        strfcStep = str(fcStep)\n",
    "        \n",
    "    grbFileName = 'surface_{0}+00{1}h00m00s'.format(girbId,strfcStep)\n",
    "    grbFile = os.path.join(grbSource, grbFileName)\n",
    "\n",
    "    print('Ploting from grib file: ' + grbFile)\n",
    "        \n",
    "    fcStepLenght = fcStep - accPreStep\n",
    "    \n",
    "    if fcStepLenght < 10:\n",
    "        strfcStepLenght = '0'+str(fcStepLenght)\n",
    "    else:\n",
    "        strfcStepLenght = str(fcStepLenght)\n",
    "        \n",
    "    grbFileAcc = 'surface_{0}+00{1}h00m00s'.format(girbId,strfcStepLenght)\n",
    "\n",
    "    if os.path.isfile(os.path.join(grbSource, grbFileAcc)):\n",
    "        \n",
    "        print('ploting ' + strAccPre + ' acc considering previous grib file: ' + grbFileAcc)\n",
    "\n",
    "        plot_precipitation_from_grb (pathSavePlots, os.path.join(grbSource, grbFileAcc), \n",
    "                                     os.path.join(grbSource, grbFile),\n",
    "                                     strAccPre, minmap=1, maxmap=30, stepmap=2,bbox=bbox)"
   ]
  },
  {
   "cell_type": "code",
   "execution_count": 16,
   "id": "af69214d-1249-4c7e-8385-6125dbd42412",
   "metadata": {},
   "outputs": [],
   "source": [
    "#############\n",
    "# radiance plotting\n",
    "#############\n",
    "\n",
    "skip=True\n",
    "\n",
    "if not skip:\n",
    "    for fcStep in fc_steps:\n",
    "        \n",
    "        if fcStep < 10:\n",
    "            fcStep = '0'+str(fcStep)\n",
    "            \n",
    "        grbFileName = 'surface_{0}+00{1}h00m00s'.format(girbId,fcStep)\n",
    "        grbFile = os.path.join(grbSource, grbFileName)\n",
    "    \n",
    "        print('Ploting from grib file: ' + grbFile)\n",
    "    \n",
    "        # radiance plots\n",
    "        # Brightness temperature (K) \n",
    "        # MESSAGE 4 --> C002_METEOSAT_09_SEVIRI.POS: 6.2 WV\n",
    "        # MESSAGE 5 --> C006_METEOSAT_09_SEVIRI.POS: 10.8 IR\n",
    "        \n",
    "        plot_radiance_from_grb_message (pathSavePlots, grbFile, 5)\n",
    "        plot_radiance_from_grb_message (pathSavePlots, grbFile, 6)\n",
    "        "
   ]
  },
  {
   "cell_type": "code",
   "execution_count": 4,
   "id": "0509a5f2-6e31-4bf4-8d27-36d3fc985d73",
   "metadata": {},
   "outputs": [],
   "source": [
    "##################\n",
    "# PLOT HRERS\n",
    "##################\n",
    "topPath  = '/perm/miag/deode_exps'\n",
    "YYYYMMDDHH = '2024121400'\n",
    "expName    = 'HRES' \n",
    "girbId     = 'HRES' \n",
    "\n",
    "grbSource     = os.path.join(topPath,YYYYMMDDHH,expName)\n",
    "pathSavePlots = os.path.join(topPath,YYYYMMDDHH,expName,'plots')                                \n",
    "\n",
    "# plots all time steps e.g. 1 to 48  \n",
    "#fc_steps = np.arange(1,49,1)\n",
    "\n",
    "#focus on  particular time steps\n",
    "fc_steps = np.arange(47,49,1) \n",
    "\n",
    "# accumulated precipitation\n",
    "strAccPre = '6h'\n",
    "accPreStep = 6\n",
    "\n",
    "# bbox spanning Denmark\n",
    "#50/1/60/20\n",
    "#bbox = [50, 1, 20, 60]\n",
    "bbox = [18, 4, 52, 59]"
   ]
  },
  {
   "cell_type": "code",
   "execution_count": 18,
   "id": "0f35e078-d0a7-46df-a945-e96fe6418f0c",
   "metadata": {},
   "outputs": [
    {
     "name": "stdout",
     "output_type": "stream",
     "text": [
      "Ploting from grib file: /perm/miag/deode_exps/2024121400/HRES/HRES_2024121400T36.grb\n",
      "ploting 6h acc considering previous grib file: HRES_2024121400T30.grb\n",
      "Acc prep map saved as: /perm/miag/deode_exps/2024121400/HRES/plots/accPrec.6h.AN2024-12-14T00:00:00.000000000.FC36hours.png\n"
     ]
    }
   ],
   "source": [
    "#############\n",
    "# precipitation plotting\n",
    "#############\n",
    "for fcStep in fc_steps:\n",
    "\n",
    "    if fcStep < 10:\n",
    "        strfcStep = '0'+str(fcStep)\n",
    "    else:\n",
    "        strfcStep = str(fcStep)\n",
    "        \n",
    "    grbFileName = '{0}_{1}T{2}.grb'.format(girbId,YYYYMMDDHH,strfcStep)\n",
    "    grbFile = os.path.join(grbSource, grbFileName)\n",
    "\n",
    "    print('Ploting from grib file: ' + grbFile)\n",
    "        \n",
    "    fcStepM3 = fcStep - accPreStep\n",
    "\n",
    "    if fcStepM3 < 10:\n",
    "        strfcStep3 = '0'+str(fcStepM3)\n",
    "    else:\n",
    "        strfcStep3 = str(fcStepM3)\n",
    "        \n",
    "    grbFileM3 = '{0}_{1}T{2}.grb'.format(girbId,YYYYMMDDHH,strfcStep3)\n",
    "\n",
    "    if os.path.isfile(os.path.join(grbSource, grbFileM3)):\n",
    "        \n",
    "        print('ploting ' + strAccPre + ' acc considering previous grib file: ' + grbFileM3)\n",
    "\n",
    "        plot_precipitation_from_grb_ec (pathSavePlots, os.path.join(grbSource, grbFileM3), os.path.join(grbSource, grbFile),\n",
    "                                        strAccPre, minmap=1, maxmap=30, stepmap=2,bbox=bbox)"
   ]
  },
  {
   "cell_type": "code",
   "execution_count": 7,
   "id": "fbbe6529-8858-4987-ae13-175ac9011729",
   "metadata": {},
   "outputs": [
    {
     "name": "stdout",
     "output_type": "stream",
     "text": [
      "Ploting winds from grib file: /perm/miag/deode_exps/2024121400/HRES/HRES_2024121400T47.grb\n",
      "wind map saved as: /perm/miag/deode_exps/2024121400/HRES/plots/winds.AN2024-12-14T00:00:00.000000000.FC47hours.png\n",
      "Ploting winds from grib file: /perm/miag/deode_exps/2024121400/HRES/HRES_2024121400T48.grb\n",
      "wind map saved as: /perm/miag/deode_exps/2024121400/HRES/plots/winds.AN2024-12-14T00:00:00.000000000.FC48hours.png\n"
     ]
    }
   ],
   "source": [
    "#############\n",
    "# wind plotting\n",
    "#############\n",
    "for fcStep in fc_steps:\n",
    "    if fcStep < 10:\n",
    "        strfcStep = '0'+str(fcStep)\n",
    "    else:\n",
    "        strfcStep = str(fcStep)\n",
    "        \n",
    "    grbFileName = '{0}_{1}T{2}.grb'.format(girbId,YYYYMMDDHH,strfcStep)\n",
    "    grbFile = os.path.join(grbSource, grbFileName)\n",
    "    print('Ploting winds from grib file: ' + grbFile)\n",
    "    plot_winds_from_grb_ec (pathSavePlots, grbFile, \n",
    "                         minmapWS=0, maxmapWS=30, stepmapWS=2,\n",
    "                         minmapWG=0, maxmapWG=30, stepmapWG=2,bbox=bbox)"
   ]
  },
  {
   "cell_type": "code",
   "execution_count": 20,
   "id": "c0209dbf-1ae4-4062-bce7-d7fb970d5f87",
   "metadata": {},
   "outputs": [],
   "source": [
    "##################\n",
    "# PLOT DT\n",
    "##################\n",
    "topPath  = '/perm/miag/deode_exps'\n",
    "YYYYMMDDHH = '2024121400'\n",
    "expName    = 'DT' \n",
    "girbId     = 'DT' \n",
    "\n",
    "grbSource     = os.path.join(topPath,YYYYMMDDHH,expName)\n",
    "pathSavePlots = os.path.join(topPath,YYYYMMDDHH,expName,'plots')                                \n",
    "\n",
    "# plots all time steps e.g. 1 to 48  \n",
    "#fc_steps = np.arange(1,49,1)\n",
    "\n",
    "#focus on  particular time steps\n",
    "fc_steps = np.arange(36,37,1) \n",
    "\n",
    "# accumulated precipitation\n",
    "strAccPre = '6h'\n",
    "accPreStep = 6\n",
    "\n",
    "# bbox spanning Denmark\n",
    "#50/1/60/20\n",
    "#bbox = [50, 1, 20, 60]\n",
    "bbox = [18, 4, 52, 59]"
   ]
  },
  {
   "cell_type": "code",
   "execution_count": 21,
   "id": "7ab7309c-c240-4df0-a09c-55e09583d514",
   "metadata": {},
   "outputs": [
    {
     "name": "stdout",
     "output_type": "stream",
     "text": [
      "Ploting from grib file: /perm/miag/deode_exps/2024121400/DT/DT_2024121400T36.grb\n",
      "ploting 6h acc considering previous grib file: DT_2024121400T30.grb\n",
      "Acc prep map saved as: /perm/miag/deode_exps/2024121400/DT/plots/accPrec.6h.AN2024-12-14T00:00:00.000000000.FC36hours.png\n"
     ]
    }
   ],
   "source": [
    "#############\n",
    "# precipitation plotting\n",
    "#############\n",
    "for fcStep in fc_steps:\n",
    "\n",
    "    if fcStep < 10:\n",
    "        strfcStep = '0'+str(fcStep)\n",
    "    else:\n",
    "        strfcStep = str(fcStep)\n",
    "        \n",
    "    grbFileName = '{0}_{1}T{2}.grb'.format(girbId,YYYYMMDDHH,strfcStep)\n",
    "    grbFile = os.path.join(grbSource, grbFileName)\n",
    "\n",
    "    print('Ploting from grib file: ' + grbFile)\n",
    "        \n",
    "    fcStepM3 = fcStep - accPreStep\n",
    "\n",
    "    if fcStepM3 < 10:\n",
    "        strfcStep3 = '0'+str(fcStepM3)\n",
    "    else:\n",
    "        strfcStep3 = str(fcStepM3)\n",
    "        \n",
    "    grbFileM3 = '{0}_{1}T{2}.grb'.format(girbId,YYYYMMDDHH,strfcStep3)\n",
    "\n",
    "    if os.path.isfile(os.path.join(grbSource, grbFileM3)):\n",
    "        \n",
    "        print('ploting ' + strAccPre + ' acc considering previous grib file: ' + grbFileM3)\n",
    "\n",
    "        plot_precipitation_from_grb_ec (pathSavePlots, os.path.join(grbSource, grbFileM3), os.path.join(grbSource, grbFile),\n",
    "                                        strAccPre, minmap=1, maxmap=30, stepmap=2,bbox=bbox)"
   ]
  },
  {
   "cell_type": "code",
   "execution_count": 22,
   "id": "0ef54d22-fd1e-472f-b41f-9eea38a96cd0",
   "metadata": {},
   "outputs": [
    {
     "name": "stdout",
     "output_type": "stream",
     "text": [
      "Ploting winds from grib file: /perm/miag/deode_exps/2024121400/DT/DT_2024121400T36.grb\n",
      "wind map saved as: /perm/miag/deode_exps/2024121400/DT/plots/winds.AN2024-12-14T00:00:00.000000000.FC36hours.png\n"
     ]
    }
   ],
   "source": [
    "#############\n",
    "# wind plotting\n",
    "#############\n",
    "for fcStep in fc_steps:\n",
    "    if fcStep < 10:\n",
    "        fcStep = '0'+str(fcStep)\n",
    "    grbFileName = '{0}_{1}T{2}.grb'.format(girbId,YYYYMMDDHH,strfcStep)\n",
    "    grbFile = os.path.join(grbSource, grbFileName)\n",
    "    print('Ploting winds from grib file: ' + grbFile)\n",
    "    plot_winds_from_grb_ec (pathSavePlots, grbFile, \n",
    "                         minmapWS=0, maxmapWS=30, stepmapWS=2,\n",
    "                         minmapWG=0, maxmapWG=30, stepmapWG=2,bbox=bbox)"
   ]
  }
 ],
 "metadata": {
  "kernelspec": {
   "display_name": "Python 3.10.10-01",
   "language": "python",
   "name": "python-3.10.10-01"
  },
  "language_info": {
   "codemirror_mode": {
    "name": "ipython",
    "version": 3
   },
   "file_extension": ".py",
   "mimetype": "text/x-python",
   "name": "python",
   "nbconvert_exporter": "python",
   "pygments_lexer": "ipython3",
   "version": "3.10.10"
  }
 },
 "nbformat": 4,
 "nbformat_minor": 5
}
