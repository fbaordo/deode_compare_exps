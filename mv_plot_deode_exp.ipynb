{
 "cells": [
  {
   "cell_type": "code",
   "execution_count": 1,
   "id": "20408506-e4e8-49fe-94b1-58ab45d7b610",
   "metadata": {
    "editable": true,
    "slideshow": {
     "slide_type": ""
    },
    "tags": []
   },
   "outputs": [
    {
     "name": "stdout",
     "output_type": "stream",
     "text": [
      "\n",
      "The following have been reloaded with a version change:\n",
      "  1) python3/3.11.10-01 => python3/3.10.10-01\n",
      "\n",
      "\n",
      "Currently Loaded Modules:\n",
      "  1) gcc/8.5.0    3) python3/3.11.10-01   5) ecmwf-toolbox/2024.04.0.0\n",
      "  2) prgenv/gnu   4) node/20.11.0\n",
      "\n",
      " \n",
      "\n"
     ]
    }
   ],
   "source": [
    "!module load python3/3.10.10-01\n",
    "import lmod\n",
    "await lmod.load('ecmwf-toolbox/2024.04.0.0')\n",
    "!ml\n",
    "import metview as mv\n",
    "import os\n",
    "import numpy as np\n",
    "import sys\n",
    "import matplotlib.pyplot as plt"
   ]
  },
  {
   "cell_type": "code",
   "execution_count": 2,
   "id": "23305bc4-028b-4f9c-a123-496ec370d30c",
   "metadata": {
    "editable": true,
    "slideshow": {
     "slide_type": ""
    },
    "tags": []
   },
   "outputs": [],
   "source": [
    "# general fucntion to do the plot\n",
    "def mv_ql_plot(var2plotIn, latIncIn, lonIncIn, latlonMapIn, \n",
    "               contourMinIn, contourMaxIn, contourListIn, txttitleIn,plotname=None):\n",
    "    \n",
    "    coastlines = mv.mcoast(\n",
    "        map_coastline_colour            = \"black\",\n",
    "        map_coastline_thickness         = 3.5,\n",
    "        map_coastline_resolution        = \"full\",\n",
    "        map_coastline_land_shade        = \"on\",\n",
    "        map_coastline_land_shade_colour = \"RGB(0.8627,0.8627,0.8627)\",\n",
    "        map_coastline_sea_shade         = \"on\",\n",
    "        map_coastline_sea_shade_colour  = \"RGB(0.92,0.94,0.93)\",\n",
    "        map_boundaries                  = \"on\",\n",
    "        map_rivers                      = \"off\",\n",
    "        map_boundaries_colour           = \"black\",\n",
    "        map_boundaries_thickness        = 2.5,\n",
    "        map_grid_colour                 = \"grey\",\n",
    "        map_label_colour                = \"RGB(0,0,0)\",\n",
    "        map_grid_latitude_increment     = latIncIn,    \n",
    "        map_grid_longitude_increment    = lonIncIn\n",
    "    )\n",
    "    \n",
    "    view = mv.geoview(\n",
    "        map_projection=\"cylindrical\",\n",
    "        map_area_definition = \"corners\",\n",
    "        area                = latlonMapIn,    \n",
    "        coastlines          = coastlines,\n",
    "        )\n",
    "    \n",
    "    xs_shade = mv.mcont(\n",
    "            legend=\"on\",\n",
    "        contour=\"off\",\n",
    "        contour_level_selection_type = \"level_list\",\n",
    "        contour_level_list = contourListIn,\n",
    "        contour_label=\"off\",\n",
    "        contour_shade=\"on\",\n",
    "        contour_shade_colour_method =\"list\",\n",
    "        contour_hilo                     = \"on\",\n",
    "        contour_lo_colour                = \"black\",\n",
    "        contour_hi_colour                = \"black\",\n",
    "        contour_lo_min_value             = +1.0E21,\n",
    "        contour_hi_min_value             = 75,\n",
    "        contour_hilo_quality             = \"high\",\n",
    "        contour_hilo_type                = \"number\",\n",
    "        contour_hilo_format              = \"(I5)\",\n",
    "        contour_shade_method             = \"area_fill\",\n",
    "        contour_shade_colour_list=[\"RGB(0.75,0.95,0.93)\",\"RGB(0.45,0.93,0.78)\",\"RGB(0.06999,0.85,0.61)\",\"RGB(0.53,0.8,0.13)\",\"RGB(0.6,0.91,0.05699)\",\"RGB(0.9,1,0.4)\",\"RGB(0.89,0.89,0.066)\",\"RGB(1,0.73,0.003906)\",\"RGB(1,0.49,0.003906)\",\"red\",\"RGB(0.85,0.003906,1)\",\"RGB(0.63,0.007294,0.92)\",\"RGB(0.03999,0.03999,0.84)\",\"RGB(0.04199,0.04199,0.43)\",\"RGB(0.45,0.45,0.45)\"]\n",
    "        #contour_shade_colour_list=[\"RGB(0.75,0.95,0.93)\",\"RGB(0.45,0.93,0.78)\",\"RGB(0.06999,0.85,0.61)\",\"RGB(0.53,0.8,0.13)\",\"RGB(0.6,0.91,0.05699)\",\"RGB(0.9,1,0.4)\",\"RGB(0.89,0.89,0.066)\",\"RGB(1,0.73,0.003906)\",\"RGB(1,0.49,0.003906)\",\"red\",\"RGB(0.85,0.003906,1)\",\"RGB(0.63,0.007294,0.92)\",\"RGB(0.03999,0.02999,0.84)\",\"white\",\"RGB(0.45,0.45,0.45)\"]\n",
    "\n",
    "    )\n",
    "    \n",
    "    legend = mv.mlegend(\n",
    "        legend_text_font_size = 0.4,\n",
    "    )\n",
    "    \n",
    "    title = mv.mtext(text_line_1 = txttitleIn,text_font_size=0.8)\n",
    "    \n",
    "    mv.plot(var2plotIn, \n",
    "            xs_shade,\n",
    "            coastlines,\n",
    "            view,\n",
    "            legend,\n",
    "            title)\n",
    "\n",
    "    if plotname is not None:\n",
    "        #plotname = os.path.join(pathDiagPlots, myPng)    \n",
    "        #plt.savefig(plotname)\n",
    "        mv.setoutput(mv.png_output(output_name=plotname,output_width=1200))\n",
    "            \n",
    "    return None"
   ]
  },
  {
   "cell_type": "markdown",
   "id": "967e7001-a84c-448f-a313-fd377939d118",
   "metadata": {},
   "source": [
    "**CONFIGURE CASE**"
   ]
  },
  {
   "cell_type": "code",
   "execution_count": 3,
   "id": "974d4feb-a10a-44c9-ab90-c701e43c925e",
   "metadata": {},
   "outputs": [],
   "source": [
    "# map set up\n",
    "# your lat/lon domain [SE lat, SE lon, NW lat, NW lon)\n",
    "#lat_lon_map_area = [53,1,58,20]    \n",
    "lat_lon_map_area = [52,4,59,18]    \n",
    "\n",
    "# interval between lat/lon\n",
    "lat_inc = 2\n",
    "lon_inc = 2\n",
    "\n",
    "# colors\n",
    "contour_shade_min_level_colour = \"blue\"    \n",
    "contour_shade_max_level_colour = \"magenta\"\n",
    "\n",
    "# intervals \n",
    "contour_level_list = [0.5, 1, 3, 5, 7, 10, 15, 20, 25, 30, 40, 50, 60, 70] #,125,150,200,300,500]\n",
    "#[1, 2, 3, 4, 6, 8, 10, 12, 14, 16, 18, 24]  \n",
    "\n",
    "topPath = '/perm/miag/deode_exps/2024121400'\n",
    "validTime = '20241215-12UTC'\n",
    "fc_setp2 = '36'\n",
    "fc_setp1 = '30'\n",
    "\n",
    "savePlot = False\n",
    "\n",
    "if not (savePlot):\n",
    "    mv.setoutput('jupyter')"
   ]
  },
  {
   "cell_type": "code",
   "execution_count": 4,
   "id": "bf04a064-3ade-495e-b621-d9101dc955e7",
   "metadata": {},
   "outputs": [
    {
     "data": {
      "application/vnd.jupyter.widget-view+json": {
       "model_id": "a80e0618f3b847be955a43092c8bda7a",
       "version_major": 2,
       "version_minor": 0
      },
      "text/plain": [
       "Image(value=b'', layout=\"Layout(visibility='hidden')\")"
      ]
     },
     "metadata": {},
     "output_type": "display_data"
    },
    {
     "data": {
      "application/vnd.jupyter.widget-view+json": {
       "model_id": "a96e630749cb436086d7f1cfb47cc15c",
       "version_major": 2,
       "version_minor": 0
      },
      "text/plain": [
       "Label(value='Generating plots....')"
      ]
     },
     "metadata": {},
     "output_type": "display_data"
    }
   ],
   "source": [
    "##########\n",
    "# DEODE EXP\n",
    "##########\n",
    "gribId = 'GRIBPFDEOD'\n",
    "strExp = 'CY46h1_HARMONIE_AROME_DAN_1500x1500_500m_v1'\n",
    "txttitle = '6h accumulated 500m Harmonie-Arome [valid time: ' + validTime + ']'\n",
    "plotName = 'acc_prep.harmonie.validTime.'+validTime+'.png'\n",
    "####################\n",
    "gbFile  = os.path.join(topPath,strExp,'surface_{0}+00{1}h00m00s'.format(gribId,fc_setp1))\n",
    "gbFile2 = os.path.join(topPath,strExp,'surface_{0}+00{1}h00m00s'.format(gribId,fc_setp2))\n",
    "\n",
    "# Reading the grib\n",
    "myFC = mv.read(gbFile) \n",
    "# This is nececssary only for the DEODE grib file to replace gridType = lambert_lam with gridType = lambert \n",
    "myFC = mv.grib_set(myFC,[\"gridType\",'lambert'])\n",
    "\n",
    "tirf1  = myFC.select(shortName=\"tirf\") \n",
    "tsnow1 = myFC.select(shortName=\"tsnowp\") \n",
    "tgrp1  = myFC.select(shortName=\"tgrp\") \n",
    "\n",
    "tot1 = tirf1 + tsnow1 + tgrp1\n",
    "\n",
    "myFC2 = mv.read(gbFile2) \n",
    "myFC2 = mv.grib_set(myFC2,[\"gridType\",'lambert'])\n",
    "\n",
    "tirf2  = myFC2.select(shortName=\"tirf\") \n",
    "tsnow2 = myFC2.select(shortName=\"tsnowp\") \n",
    "tgrp2  = myFC2.select(shortName=\"tgrp\") \n",
    "\n",
    "tot2 = tirf2 + tsnow2 + tgrp2\n",
    "\n",
    "acc_prep = tot2 - tot1\n",
    "\n",
    "#check min max\n",
    "myMin = int(np.ceil(mv.minvalue(acc_prep)))    \n",
    "myMax = int(np.floor(mv.maxvalue(acc_prep)))\n",
    "\n",
    "myMin, myMax\n",
    "\n",
    "if (savePlot):\n",
    "    mv.setoutput(mv.png_output(output_name=plotName,output_width=1200))\n",
    "\n",
    "mv_ql_plot(acc_prep, lat_inc, lon_inc, lat_lon_map_area, \n",
    "           contour_shade_min_level_colour, contour_shade_max_level_colour, contour_level_list, txttitle)\n",
    "\n"
   ]
  },
  {
   "cell_type": "code",
   "execution_count": 5,
   "id": "f90acb48-75a1-4651-aaa4-1e8fe51d4382",
   "metadata": {
    "editable": true,
    "slideshow": {
     "slide_type": ""
    },
    "tags": []
   },
   "outputs": [
    {
     "data": {
      "application/vnd.jupyter.widget-view+json": {
       "model_id": "97861c66fdc54ea1a2dd6b54e5915f98",
       "version_major": 2,
       "version_minor": 0
      },
      "text/plain": [
       "Image(value=b'', layout=\"Layout(visibility='hidden')\")"
      ]
     },
     "metadata": {},
     "output_type": "display_data"
    },
    {
     "data": {
      "application/vnd.jupyter.widget-view+json": {
       "model_id": "1fad9f0300ea4dbea02003c4700bd4cd",
       "version_major": 2,
       "version_minor": 0
      },
      "text/plain": [
       "Label(value='Generating plots....')"
      ]
     },
     "metadata": {},
     "output_type": "display_data"
    }
   ],
   "source": [
    "##########\n",
    "# DT\n",
    "##########\n",
    "gribId = '2024121400'\n",
    "strExp = 'DT'\n",
    "txttitle = '6h accumulated DT [valid time: ' + validTime + ']'\n",
    "plotNameDT = 'acc_prep.DT.validTime.'+validTime+'.png'\n",
    "####################\n",
    "gbFile  = os.path.join(topPath,strExp,'DT_{0}T{1}.grb'.format(gribId,fc_setp1))\n",
    "gbFile2 = os.path.join(topPath,strExp,'DT_{0}T{1}.grb'.format(gribId,fc_setp2))\n",
    "\n",
    "# Reading the grib\n",
    "myFC = mv.read(gbFile) \n",
    "myFC2 = mv.read(gbFile2) \n",
    "\n",
    "tirf2 = myFC2.select(shortName=\"tp\") \n",
    "tirf1 = myFC.select(shortName=\"tp\")  \n",
    "\n",
    "acc_prep = (tirf2 - tirf1)*1000.0\n",
    "\n",
    "#check min max\n",
    "myMin = int(np.ceil(mv.minvalue(acc_prep)))    \n",
    "myMax = int(np.floor(mv.maxvalue(acc_prep)))\n",
    "\n",
    "myMin, myMax\n",
    "\n",
    "if (savePlot):\n",
    "    mv.setoutput(mv.png_output(output_name=plotNameDT,output_width=1200))\n",
    "\n",
    "mv_ql_plot(acc_prep, lat_inc, lon_inc, lat_lon_map_area, \n",
    "           contour_shade_min_level_colour, contour_shade_max_level_colour, contour_level_list, txttitle) #,plotname=plotName)\n",
    "\n"
   ]
  },
  {
   "cell_type": "code",
   "execution_count": 6,
   "id": "b20ca609-4ee3-48b2-bee2-df1cd9e761c1",
   "metadata": {
    "editable": true,
    "slideshow": {
     "slide_type": ""
    },
    "tags": []
   },
   "outputs": [
    {
     "data": {
      "application/vnd.jupyter.widget-view+json": {
       "model_id": "f7e9be78977046aea7cc0dcadd51f14a",
       "version_major": 2,
       "version_minor": 0
      },
      "text/plain": [
       "Image(value=b'', layout=\"Layout(visibility='hidden')\")"
      ]
     },
     "metadata": {},
     "output_type": "display_data"
    },
    {
     "data": {
      "application/vnd.jupyter.widget-view+json": {
       "model_id": "cc58843bc0674df3924f0ca0a0e5ea70",
       "version_major": 2,
       "version_minor": 0
      },
      "text/plain": [
       "Label(value='Generating plots....')"
      ]
     },
     "metadata": {},
     "output_type": "display_data"
    }
   ],
   "source": [
    "##########\n",
    "# HRES\n",
    "##########\n",
    "gribId = '2024121400'\n",
    "strExp = 'HRES'\n",
    "txttitle = '6h accumulated HRES [valid time: ' + validTime + ']'\n",
    "plotNameHRES = 'acc_prep.HRES.validTime.'+validTime+'.png'\n",
    "####################\n",
    "gbFile  = os.path.join(topPath,strExp,'HRES_{0}T{1}.grb'.format(gribId,fc_setp1))\n",
    "gbFile2 = os.path.join(topPath,strExp,'HRES_{0}T{1}.grb'.format(gribId,fc_setp2))\n",
    "\n",
    "# Reading the grib\n",
    "myFC = mv.read(gbFile) \n",
    "myFC2 = mv.read(gbFile2) \n",
    "\n",
    "tirf2 = myFC2.select(shortName=\"tp\") \n",
    "tirf1 = myFC.select(shortName=\"tp\")  \n",
    "\n",
    "acc_prep = (tirf2 - tirf1)*1000.0\n",
    "\n",
    "#check min max\n",
    "myMin = int(np.ceil(mv.minvalue(acc_prep)))    \n",
    "myMax = int(np.floor(mv.maxvalue(acc_prep)))\n",
    "\n",
    "myMin, myMax\n",
    "\n",
    "if (savePlot):\n",
    "    mv.setoutput(mv.png_output(output_name=plotNameHRES,output_width=1200))\n",
    "\n",
    "mv_ql_plot(acc_prep, lat_inc, lon_inc, lat_lon_map_area, \n",
    "           contour_shade_min_level_colour, contour_shade_max_level_colour, contour_level_list, txttitle) #,plotname=plotName)\n"
   ]
  },
  {
   "cell_type": "code",
   "execution_count": null,
   "id": "54cb6d29-6147-4ee9-8489-eb45a53ef602",
   "metadata": {
    "editable": true,
    "slideshow": {
     "slide_type": ""
    },
    "tags": []
   },
   "outputs": [],
   "source": []
  },
  {
   "cell_type": "code",
   "execution_count": null,
   "id": "9f634908-724a-4642-ae86-10e539beede2",
   "metadata": {
    "editable": true,
    "slideshow": {
     "slide_type": ""
    },
    "tags": []
   },
   "outputs": [],
   "source": []
  },
  {
   "cell_type": "code",
   "execution_count": null,
   "id": "b4614fe9-a5c2-4552-85a9-a105b688ec04",
   "metadata": {
    "editable": true,
    "slideshow": {
     "slide_type": ""
    },
    "tags": []
   },
   "outputs": [],
   "source": []
  }
 ],
 "metadata": {
  "kernelspec": {
   "display_name": "Python 3.10.10-01",
   "language": "python",
   "name": "python-3.10.10-01"
  },
  "language_info": {
   "codemirror_mode": {
    "name": "ipython",
    "version": 3
   },
   "file_extension": ".py",
   "mimetype": "text/x-python",
   "name": "python",
   "nbconvert_exporter": "python",
   "pygments_lexer": "ipython3",
   "version": "3.10.10"
  }
 },
 "nbformat": 4,
 "nbformat_minor": 5
}
